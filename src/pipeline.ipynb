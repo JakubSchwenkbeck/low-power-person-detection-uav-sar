{
 "cells": [
  {
   "cell_type": "markdown",
   "id": "9a6481bb",
   "metadata": {},
   "source": [
    "# Low power person detection on UAVs\n",
    "\n",
    "This is the notebook with holds the complete pipeline for our project "
   ]
  },
  {
   "cell_type": "code",
   "execution_count": null,
   "id": "a12255af",
   "metadata": {
    "vscode": {
     "languageId": "plaintext"
    }
   },
   "outputs": [],
   "source": []
  }
 ],
 "metadata": {
  "language_info": {
   "name": "python"
  }
 },
 "nbformat": 4,
 "nbformat_minor": 5
}
